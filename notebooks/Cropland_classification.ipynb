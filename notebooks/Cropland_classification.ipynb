{
  "cells": [
    {
      "cell_type": "markdown",
      "metadata": {
        "id": "view-in-github",
        "colab_type": "text"
      },
      "source": [
        "<a href=\"https://colab.research.google.com/github/Gedeon-m-gedus/ACE_DS_Seminar/blob/main/Cropland_classification.ipynb\" target=\"_parent\"><img src=\"https://colab.research.google.com/assets/colab-badge.svg\" alt=\"Open In Colab\"/></a>"
      ]
    },
    {
      "cell_type": "code",
      "source": [
        "!pip install scikit-learn\n",
        "!pip install pandas"
      ],
      "metadata": {
        "id": "CcIb9J_FXjoC"
      },
      "id": "CcIb9J_FXjoC",
      "execution_count": 5,
      "outputs": []
    },
    {
      "cell_type": "code",
      "execution_count": 2,
      "id": "90205adf",
      "metadata": {
        "id": "90205adf"
      },
      "outputs": [],
      "source": [
        "import pandas as pd\n",
        "import os\n",
        "\n",
        "from sklearn.neural_network import MLPClassifier\n",
        "from sklearn.model_selection import train_test_split\n",
        "from sklearn.metrics import accuracy_score\n",
        "import numpy as np "
      ]
    },
    {
      "cell_type": "code",
      "execution_count": 4,
      "id": "3923f895",
      "metadata": {
        "id": "3923f895"
      },
      "outputs": [],
      "source": [
        "planet_data = pd.read_csv(\"https://raw.githubusercontent.com/Gedeon-m-gedus/ACE_DS_Seminar/main/data/cropland_data.csv\")\n"
      ]
    },
    {
      "cell_type": "code",
      "execution_count": null,
      "id": "803ef67c",
      "metadata": {
        "id": "803ef67c"
      },
      "outputs": [],
      "source": [
        "planet_data.head()"
      ]
    },
    {
      "cell_type": "code",
      "source": [
        "planet_data.shape"
      ],
      "metadata": {
        "id": "ckz2EiyR9MqN"
      },
      "id": "ckz2EiyR9MqN",
      "execution_count": null,
      "outputs": []
    },
    {
      "cell_type": "code",
      "execution_count": null,
      "id": "9fd22534",
      "metadata": {
        "id": "9fd22534"
      },
      "outputs": [],
      "source": [
        "useful_features = ['red', 'green', 'blue', 'lst', 'vod', 'ndbal','msr_re', 'cl_re', 'ndvi_re', 'evi', 'ndvi']\n",
        "label_class = ['class']\n",
        "\n",
        "X, y = planet_data[useful_features], planet_data[label_class]"
      ]
    },
    {
      "cell_type": "code",
      "execution_count": null,
      "id": "b4892f2d",
      "metadata": {
        "id": "b4892f2d"
      },
      "outputs": [],
      "source": [
        "X_scaled = X.copy()\n",
        "\n",
        "for column in X_scaled.columns:\n",
        "    X_scaled[column] = (X_scaled[column] - X_scaled[column].min()) / (X_scaled[column].max() - X_scaled[column].min())    \n",
        "\n",
        "X_scaled"
      ]
    },
    {
      "cell_type": "code",
      "execution_count": null,
      "id": "25bc0bb7",
      "metadata": {
        "id": "25bc0bb7"
      },
      "outputs": [],
      "source": [
        "x_train, x_test, y_train, y_test = train_test_split(X_scaled,y, test_size= 0.01, random_state=27, shuffle=True)"
      ]
    },
    {
      "cell_type": "code",
      "execution_count": null,
      "id": "dac070c5",
      "metadata": {
        "id": "dac070c5"
      },
      "outputs": [],
      "source": [
        "clf = MLPClassifier(hidden_layer_sizes=(64,128,32),max_iter=500, alpha=0.0001, solver='sgd', \n",
        "                    verbose=10,random_state=21,tol=0.000000001)"
      ]
    },
    {
      "cell_type": "code",
      "execution_count": null,
      "id": "f5aba755",
      "metadata": {
        "id": "f5aba755"
      },
      "outputs": [],
      "source": [
        "clf.fit(x_train, y_train)"
      ]
    },
    {
      "cell_type": "code",
      "execution_count": null,
      "id": "4b35738b",
      "metadata": {
        "id": "4b35738b"
      },
      "outputs": [],
      "source": [
        "y_pred = clf.predict(x_test)\n",
        "print(accuracy_score(y_test, y_pred))"
      ]
    },
    {
      "cell_type": "markdown",
      "source": [
        "# If you want to explore more\n",
        "\n",
        "- Save the model\n",
        "- Run inference on the saved model with test data"
      ],
      "metadata": {
        "id": "Y3zl5dzPd37E"
      },
      "id": "Y3zl5dzPd37E"
    },
    {
      "cell_type": "code",
      "execution_count": null,
      "id": "ee99d6d2",
      "metadata": {
        "id": "ee99d6d2"
      },
      "outputs": [],
      "source": [
        "import pickle\n",
        "\n",
        "filename = 'Planet_clf.sav'\n",
        "pickle.dump(clf, open(filename, 'wb'))\n",
        "\n",
        "loaded_model = pickle.load(open(filename, 'rb'))\n",
        "result = loaded_model.score(x_test, y_test)\n",
        "print(result)"
      ]
    },
    {
      "cell_type": "markdown",
      "source": [
        "# In the future you can run inference on you saved model with the following scripts\n",
        "\n",
        "- Expect different accuracy on unseen data"
      ],
      "metadata": {
        "id": "dmNQHEdReJTq"
      },
      "id": "dmNQHEdReJTq"
    },
    {
      "cell_type": "code",
      "execution_count": null,
      "id": "2c35d8d3",
      "metadata": {
        "id": "2c35d8d3"
      },
      "outputs": [],
      "source": [
        "import pandas as pd\n",
        "import pickle\n",
        "\n",
        "def preprocess(data):\n",
        "    data = data[data.keys()]\n",
        "    X_scaled = data.copy()\n",
        "    for column in X_scaled.columns:\n",
        "        X_scaled[column] = (X_scaled[column] - X_scaled[column].min()) / (X_scaled[column].max() - X_scaled[column].min())    \n",
        "\n",
        "    return X_scaled\n",
        "\n",
        "def inference(data, model='Planet_clf.sav'):\n",
        "    \"\"\"\n",
        "    Doing inference on the test data.\n",
        "    Parameters:\n",
        "      - data: a pandas dataframe for the test data\n",
        "      - model: full path to the saved model\n",
        "    \n",
        "    \"\"\"\n",
        "    useful_features = ['red', 'green', 'blue', 'lst', 'vod', 'ndbal','msr_re', 'cl_re', 'ndvi_re', 'evi', 'ndvi']\n",
        "    \n",
        "    preprocessed_data = preprocess(data[useful_features])\n",
        "    \n",
        "    loaded_model = pickle.load(open(model, 'rb'))\n",
        "    \n",
        "    return loaded_model.predict(preprocessed_data)"
      ]
    },
    {
      "cell_type": "code",
      "execution_count": null,
      "id": "bd53a6bc",
      "metadata": {
        "id": "bd53a6bc"
      },
      "outputs": [],
      "source": [
        "test = pd.read_csv('test_data.csv')\n",
        "preds = inference(test)"
      ]
    },
    {
      "cell_type": "code",
      "execution_count": null,
      "id": "1e59031b",
      "metadata": {
        "id": "1e59031b"
      },
      "outputs": [],
      "source": [
        "true_lbl = test['class']"
      ]
    },
    {
      "cell_type": "code",
      "execution_count": null,
      "id": "3134c74d",
      "metadata": {
        "id": "3134c74d"
      },
      "outputs": [],
      "source": [
        "accuracy_score(preds, true_lbl)"
      ]
    },
    {
      "cell_type": "code",
      "execution_count": null,
      "id": "e9e47a88",
      "metadata": {
        "id": "e9e47a88"
      },
      "outputs": [],
      "source": []
    }
  ],
  "metadata": {
    "kernelspec": {
      "display_name": "Python 3 (ipykernel)",
      "language": "python",
      "name": "python3"
    },
    "language_info": {
      "codemirror_mode": {
        "name": "ipython",
        "version": 3
      },
      "file_extension": ".py",
      "mimetype": "text/x-python",
      "name": "python",
      "nbconvert_exporter": "python",
      "pygments_lexer": "ipython3",
      "version": "3.9.13"
    },
    "colab": {
      "provenance": [],
      "include_colab_link": true
    }
  },
  "nbformat": 4,
  "nbformat_minor": 5
}