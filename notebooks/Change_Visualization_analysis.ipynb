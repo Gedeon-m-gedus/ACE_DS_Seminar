{
  "cells": [
    {
      "cell_type": "markdown",
      "metadata": {
        "id": "view-in-github",
        "colab_type": "text"
      },
      "source": [
        "<a href=\"https://colab.research.google.com/github/Gedeon-m-gedus/ACE_DS_Seminar/blob/main/Change_Visualization_analysis.ipynb\" target=\"_parent\"><img src=\"https://colab.research.google.com/assets/colab-badge.svg\" alt=\"Open In Colab\"/></a>"
      ]
    },
    {
      "cell_type": "code",
      "source": [
        "!pip install geemap"
      ],
      "metadata": {
        "id": "kyT2ezV0Eifn"
      },
      "id": "kyT2ezV0Eifn",
      "execution_count": null,
      "outputs": []
    },
    {
      "cell_type": "code",
      "execution_count": null,
      "id": "ede0d750",
      "metadata": {
        "id": "ede0d750"
      },
      "outputs": [],
      "source": [
        "import geemap\n",
        "import ee"
      ]
    },
    {
      "cell_type": "code",
      "execution_count": null,
      "id": "c282eb6b",
      "metadata": {
        "id": "c282eb6b"
      },
      "outputs": [],
      "source": [
        "ee.Authenticate()"
      ]
    },
    {
      "cell_type": "code",
      "execution_count": null,
      "id": "b1f05883",
      "metadata": {
        "id": "b1f05883"
      },
      "outputs": [],
      "source": [
        "ee.Initialize()"
      ]
    },
    {
      "cell_type": "code",
      "execution_count": null,
      "id": "bd7fc585",
      "metadata": {
        "id": "bd7fc585"
      },
      "outputs": [],
      "source": [
        "countries = ee.FeatureCollection('USDOS/LSIB_SIMPLE/2017');\n",
        "Rwanda = countries.filter(ee.Filter.eq('country_na', 'Rwanda'));"
      ]
    },
    {
      "cell_type": "code",
      "execution_count": null,
      "id": "d611caa4",
      "metadata": {
        "id": "d611caa4"
      },
      "outputs": [],
      "source": [
        "\n",
        "nyungwe = (-1.7941, 29.4147)\n",
        "Map = geemap.Map(center=nyungwe, zoom=14,lite_mode=True)\n",
        "countries = ee.FeatureCollection('USDOS/LSIB_SIMPLE/2017');\n",
        "Rwanda = countries.filter(ee.Filter.eq('country_na', 'Rwanda'));\n",
        "#Map.centerObject(Rwanda, 8)\n",
        "Map.add_minimap()"
      ]
    },
    {
      "cell_type": "code",
      "source": [
        "def addnd(input):\n",
        "    nd = input.normalizedDifference(['B8', 'B4']).rename('ndvi')\n",
        "    return input.addBands(nd)\n",
        "\n",
        "S2_early = ee.ImageCollection(\"COPERNICUS/S2\") \\\n",
        "  .filterBounds(Rwanda) \\\n",
        "  .filterDate('2016-01-01', '2016-09-30') \\\n",
        "  .filterMetadata('CLOUDY_PIXEL_PERCENTAGE', 'less_than', 10) \\\n",
        "  .map(addnd)\n",
        "\n",
        "S2_late = ee.ImageCollection(\"COPERNICUS/S2\") \\\n",
        "  .filterBounds(Rwanda) \\\n",
        "  .filterDate('2023-04-01', '2023-06-10') \\\n",
        "  .filterMetadata('CLOUDY_PIXEL_PERCENTAGE', 'less_than', 6) \\\n",
        "  .map(addnd)"
      ],
      "metadata": {
        "id": "tubXytn9Zry2"
      },
      "id": "tubXytn9Zry2",
      "execution_count": null,
      "outputs": []
    },
    {
      "cell_type": "code",
      "source": [
        "S2_display = {'bands': ['B4',  'B3',  'B2'], 'min': 0, 'max': 3000}\n",
        "\n",
        "image_early = geemap.ee_tile_layer(S2_early,S2_display,'Ealy Image')\n",
        "image_late = geemap.ee_tile_layer(S2_late,S2_display,'Late Image')"
      ],
      "metadata": {
        "id": "K9VjqoHpZ1Yi"
      },
      "id": "K9VjqoHpZ1Yi",
      "execution_count": null,
      "outputs": []
    },
    {
      "cell_type": "code",
      "source": [
        "Map.split_map(image_early, image_late)\n",
        "Map"
      ],
      "metadata": {
        "id": "c1CC6JCQZ5DS",
        "collapsed": true
      },
      "id": "c1CC6JCQZ5DS",
      "execution_count": null,
      "outputs": []
    },
    {
      "cell_type": "code",
      "source": [],
      "metadata": {
        "id": "JTiXsr9_aFwA"
      },
      "id": "JTiXsr9_aFwA",
      "execution_count": null,
      "outputs": []
    }
  ],
  "metadata": {
    "kernelspec": {
      "display_name": "Python 3 (ipykernel)",
      "language": "python",
      "name": "python3"
    },
    "language_info": {
      "codemirror_mode": {
        "name": "ipython",
        "version": 3
      },
      "file_extension": ".py",
      "mimetype": "text/x-python",
      "name": "python",
      "nbconvert_exporter": "python",
      "pygments_lexer": "ipython3",
      "version": "3.9.6"
    },
    "colab": {
      "provenance": [],
      "include_colab_link": true
    }
  },
  "nbformat": 4,
  "nbformat_minor": 5
}